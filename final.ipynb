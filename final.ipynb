{
 "cells": [
  {
   "cell_type": "code",
   "execution_count": 4,
   "metadata": {},
   "outputs": [],
   "source": [
    "# Import libraries\n",
    "import pandas as pd\n",
    "import numpy as np\n",
    "import tensorflow as tf\n",
    "from keras.preprocessing.text import Tokenizer\n",
    "from keras.utils import pad_sequences\n",
    "from sklearn.model_selection import train_test_split\n",
    "from keras.models import Sequential, Model\n",
    "from keras.layers import Flatten, Dense, Input, Embedding, Activation, Dropout, concatenate, LSTM, Bidirectional\n",
    "import re\n",
    "import gensim"
   ]
  },
  {
   "cell_type": "code",
   "execution_count": 5,
   "metadata": {},
   "outputs": [],
   "source": [
    "# read in csv\n",
    "df = pd.read_csv('dataset.csv')\n",
    "df = df.sample(400000)"
   ]
  },
  {
   "cell_type": "code",
   "execution_count": 6,
   "metadata": {},
   "outputs": [],
   "source": [
    "# Splitting the data into Word2Vec training and testing data\n",
    "df_wv_model, df = train_test_split(df, test_size=0.5, random_state=42)"
   ]
  },
  {
   "cell_type": "code",
   "execution_count": 7,
   "metadata": {},
   "outputs": [],
   "source": [
    "# Converting all review text to string and preprocessing using gensim\n",
    "df_wv_model['review_text'] = df_wv_model['review_text'].values.astype('str')\n",
    "review_text = df_wv_model.review_text.apply(gensim.utils.simple_preprocess)"
   ]
  },
  {
   "cell_type": "code",
   "execution_count": 8,
   "metadata": {},
   "outputs": [],
   "source": [
    "# Building a Word2Vec model using gensim\n",
    "model = gensim.models.Word2Vec(\n",
    "    window = 10,\n",
    "    min_count = 2,\n",
    "    workers = 4\n",
    ")"
   ]
  },
  {
   "cell_type": "code",
   "execution_count": 9,
   "metadata": {},
   "outputs": [],
   "source": [
    "# Building the vocabulary\n",
    "model.build_vocab(review_text)"
   ]
  },
  {
   "cell_type": "code",
   "execution_count": 10,
   "metadata": {},
   "outputs": [
    {
     "data": {
      "text/plain": [
       "(38891099, 52286355)"
      ]
     },
     "execution_count": 10,
     "metadata": {},
     "output_type": "execute_result"
    }
   ],
   "source": [
    "# Training the model\n",
    "model.train(review_text, total_examples = model.corpus_count, epochs = model.epochs)"
   ]
  },
  {
   "cell_type": "code",
   "execution_count": 10,
   "metadata": {},
   "outputs": [
    {
     "name": "stderr",
     "output_type": "stream",
     "text": [
      "C:\\Users\\sarar\\AppData\\Local\\Packages\\PythonSoftwareFoundation.Python.3.11_qbz5n2kfra8p0\\LocalCache\\local-packages\\Python311\\site-packages\\keras\\preprocessing\\text.py:246: UserWarning: The `nb_words` argument in `Tokenizer` has been renamed `num_words`.\n",
      "  warnings.warn(\n"
     ]
    }
   ],
   "source": [
    "# Tokenizing the data for training and testing on the word2vec custom model\n",
    "max_words = 40000\n",
    "max_sequence_length = 100\n",
    "\n",
    "df['review_text'] = df['review_text'].values.astype('str')\n",
    "review_text = df['review_text']\n",
    "\n",
    "tokenizer = Tokenizer(nb_words=max_words)\n",
    "tokenizer.fit_on_texts(review_text)\n",
    "sequences = tokenizer.texts_to_sequences(review_text)\n",
    "review_text_data = pad_sequences(sequences, maxlen=max_sequence_length)"
   ]
  },
  {
   "cell_type": "code",
   "execution_count": 16,
   "metadata": {},
   "outputs": [],
   "source": [
    "# Split into train and test data\n",
    "y = df['review_score']\n",
    "X_train, X_test, y_train, y_test = train_test_split(review_text_data, y, test_size=0.2, random_state=42)"
   ]
  },
  {
   "cell_type": "code",
   "execution_count": 42,
   "metadata": {},
   "outputs": [],
   "source": [
    "# Create an an embedding matrix using custom model for the tokenized text\n",
    "vocab = tokenizer.sequences_to_texts(review_text)\n",
    "\n",
    "vocab_size = len(tokenizer.word_index) + 1\n",
    "\n",
    "embedding_matrix = np.zeros((vocab_size, 100))\n",
    "\n",
    "for word, i in tokenizer.word_index.items() :\n",
    "    try : \n",
    "        embedding_vector = model.wv[word]\n",
    "        if embedding_vector is not None:\n",
    "            embedding_matrix[i] = embedding_vector\n",
    "    except KeyError:\n",
    "        pass\n"
   ]
  },
  {
   "cell_type": "code",
   "execution_count": 43,
   "metadata": {},
   "outputs": [
    {
     "name": "stdout",
     "output_type": "stream",
     "text": [
      "Model: \"model_2\"\n",
      "_________________________________________________________________\n",
      " Layer (type)                Output Shape              Param #   \n",
      "=================================================================\n",
      " review_input (InputLayer)   [(None, 100)]             0         \n",
      "                                                                 \n",
      " embedding_2 (Embedding)     (None, 100, 100)          13031100  \n",
      "                                                                 \n",
      " flatten_2 (Flatten)         (None, 10000)             0         \n",
      "                                                                 \n",
      " dense_6 (Dense)             (None, 100)               1000100   \n",
      "                                                                 \n",
      " dense_7 (Dense)             (None, 32)                3232      \n",
      "                                                                 \n",
      " dense_8 (Dense)             (None, 1)                 33        \n",
      "                                                                 \n",
      "=================================================================\n",
      "Total params: 14,034,465\n",
      "Trainable params: 14,034,465\n",
      "Non-trainable params: 0\n",
      "_________________________________________________________________\n",
      "None\n"
     ]
    }
   ],
   "source": [
    "# Creating the model\n",
    "sentiment_model = Sequential()\n",
    "Embed_layer = Embedding(vocab_size, 100, weights=[embedding_matrix], input_length=max_sequence_length, trainable=True)\n",
    "\n",
    "review_input = Input(shape=(max_sequence_length,), dtype='int32', name = 'review_input')\n",
    "review_embedding = Embed_layer(review_input)\n",
    "Flatten_layer = Flatten()\n",
    "review_flatten = Flatten_layer(review_embedding)\n",
    "output_size = 1\n",
    "\n",
    "dense1 = Dense(100, activation='relu')(review_flatten)\n",
    "dense2 = Dense(32, activation='relu')(dense1)\n",
    "predict = Dense(1, activation = 'sigmoid')(dense2)\n",
    "\n",
    "sentiment_model = Model(inputs = [review_input], outputs = [predict])\n",
    "sentiment_model.compile(loss='binary_crossentropy', optimizer='adam', metrics=['accuracy'])\n",
    "\n",
    "print(sentiment_model.summary())"
   ]
  },
  {
   "cell_type": "code",
   "execution_count": 44,
   "metadata": {},
   "outputs": [
    {
     "name": "stdout",
     "output_type": "stream",
     "text": [
      "Epoch 1/3\n",
      "5000/5000 [==============================] - 714s 143ms/step - loss: -23615.7305 - accuracy: 0.6151 - val_loss: -113810.5703 - val_accuracy: 0.6784\n",
      "Epoch 2/3\n",
      "5000/5000 [==============================] - 802s 160ms/step - loss: -773633.8125 - accuracy: 0.6125 - val_loss: -1635140.2500 - val_accuracy: 0.5089\n",
      "Epoch 3/3\n",
      "5000/5000 [==============================] - 764s 153ms/step - loss: -4872023.0000 - accuracy: 0.6139 - val_loss: -7645233.0000 - val_accuracy: 0.5189\n"
     ]
    },
    {
     "data": {
      "text/plain": [
       "<keras.callbacks.History at 0x1c9cf2e7110>"
      ]
     },
     "execution_count": 44,
     "metadata": {},
     "output_type": "execute_result"
    }
   ],
   "source": [
    "# Fitting the model\n",
    "sentiment_model.fit(X_train, y_train, epochs = 3, batch_size = 32, validation_data = (X_test, y_test))"
   ]
  },
  {
   "cell_type": "code",
   "execution_count": 2,
   "metadata": {},
   "outputs": [],
   "source": [
    "# Downloading glove word embeddings\n",
    "import gensim.downloader as api\n",
    "embeddings = api.load(\"glove-wiki-gigaword-100\")"
   ]
  },
  {
   "cell_type": "code",
   "execution_count": 45,
   "metadata": {},
   "outputs": [],
   "source": [
    "# Creating an embedding matrix using the glove model\n",
    "\n",
    "embedding_matrix_glove = np.zeros((vocab_size, 100))\n",
    "\n",
    "for word, i in tokenizer.word_index.items() :\n",
    "    try : \n",
    "        embedding_vector = embeddings[word]\n",
    "        if embedding_vector is not None:\n",
    "            embedding_matrix[i] = embedding_vector\n",
    "    except KeyError:\n",
    "        pass"
   ]
  },
  {
   "cell_type": "code",
   "execution_count": 46,
   "metadata": {},
   "outputs": [
    {
     "name": "stdout",
     "output_type": "stream",
     "text": [
      "Model: \"model_3\"\n",
      "_________________________________________________________________\n",
      " Layer (type)                Output Shape              Param #   \n",
      "=================================================================\n",
      " review_input (InputLayer)   [(None, 100)]             0         \n",
      "                                                                 \n",
      " embedding_3 (Embedding)     (None, 100, 100)          13031100  \n",
      "                                                                 \n",
      " flatten_3 (Flatten)         (None, 10000)             0         \n",
      "                                                                 \n",
      " dense_9 (Dense)             (None, 100)               1000100   \n",
      "                                                                 \n",
      " dense_10 (Dense)            (None, 32)                3232      \n",
      "                                                                 \n",
      " dense_11 (Dense)            (None, 1)                 33        \n",
      "                                                                 \n",
      "=================================================================\n",
      "Total params: 14,034,465\n",
      "Trainable params: 14,034,465\n",
      "Non-trainable params: 0\n",
      "_________________________________________________________________\n",
      "None\n"
     ]
    }
   ],
   "source": [
    "# Creating the model for glove embedding matrix\n",
    "sentiment_model_glove = Sequential()\n",
    "Embed_layer = Embedding(vocab_size, 100, weights=[embedding_matrix_glove], input_length=max_sequence_length, trainable=True)\n",
    "\n",
    "review_input = Input(shape=(max_sequence_length,), dtype='int32', name = 'review_input')\n",
    "review_embedding = Embed_layer(review_input)\n",
    "Flatten_layer = Flatten()\n",
    "review_flatten = Flatten_layer(review_embedding)\n",
    "output_size = 1\n",
    "\n",
    "dense1 = Dense(100, activation='relu')(review_flatten)\n",
    "dense2 = Dense(32, activation='relu')(dense1)\n",
    "predict = Dense(1, activation = 'sigmoid')(dense2)\n",
    "\n",
    "sentiment_model_glove = Model(inputs = [review_input], outputs = [predict])\n",
    "sentiment_model_glove.compile(loss='binary_crossentropy', optimizer='adam', metrics=['accuracy'])\n",
    "\n",
    "print(sentiment_model_glove.summary())"
   ]
  },
  {
   "cell_type": "code",
   "execution_count": 47,
   "metadata": {},
   "outputs": [
    {
     "name": "stdout",
     "output_type": "stream",
     "text": [
      "Epoch 1/3\n",
      "5000/5000 [==============================] - 627s 125ms/step - loss: 0.6575 - accuracy: 0.8180 - val_loss: 0.6554 - val_accuracy: 0.8182\n",
      "Epoch 2/3\n",
      "5000/5000 [==============================] - 652s 130ms/step - loss: 0.6545 - accuracy: 0.8191 - val_loss: 0.6555 - val_accuracy: 0.8182\n",
      "Epoch 3/3\n",
      "5000/5000 [==============================] - 671s 134ms/step - loss: 0.6545 - accuracy: 0.8191 - val_loss: 0.6556 - val_accuracy: 0.8182\n"
     ]
    },
    {
     "data": {
      "text/plain": [
       "<keras.callbacks.History at 0x1c9d8acbc50>"
      ]
     },
     "execution_count": 47,
     "metadata": {},
     "output_type": "execute_result"
    }
   ],
   "source": [
    "# Fitting the glove model\n",
    "sentiment_model_glove.fit(X_train, y_train, epochs = 3, batch_size = 32, validation_data = (X_test, y_test))"
   ]
  }
 ],
 "metadata": {
  "kernelspec": {
   "display_name": "Python 3",
   "language": "python",
   "name": "python3"
  },
  "language_info": {
   "codemirror_mode": {
    "name": "ipython",
    "version": 3
   },
   "file_extension": ".py",
   "mimetype": "text/x-python",
   "name": "python",
   "nbconvert_exporter": "python",
   "pygments_lexer": "ipython3",
   "version": "3.11.3"
  },
  "orig_nbformat": 4
 },
 "nbformat": 4,
 "nbformat_minor": 2
}
