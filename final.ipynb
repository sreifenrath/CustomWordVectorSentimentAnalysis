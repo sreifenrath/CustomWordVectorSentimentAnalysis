{
 "cells": [
  {
   "cell_type": "code",
   "execution_count": 20,
   "metadata": {},
   "outputs": [],
   "source": [
    "# Import libraries\n",
    "import pandas as pd\n",
    "import numpy as np\n",
    "import tensorflow as tf\n",
    "from keras.preprocessing.text import Tokenizer\n",
    "from keras.utils import pad_sequences\n",
    "from sklearn.model_selection import train_test_split\n",
    "from keras.models import Sequential, Model\n",
    "from keras.layers import SimpleRNN, Dense, Input, Embedding, Activation, Dropout, concatenate, Flatten\n",
    "import re\n",
    "import gensim"
   ]
  },
  {
   "cell_type": "code",
   "execution_count": 2,
   "metadata": {},
   "outputs": [],
   "source": [
    "# read in csv\n",
    "df = pd.read_csv('dataset.csv')\n",
    "df = df.sample(400000)"
   ]
  },
  {
   "cell_type": "code",
   "execution_count": 3,
   "metadata": {},
   "outputs": [],
   "source": [
    "# Splitting the data into Word2Vec training and testing data\n",
    "df_wv_model, df = train_test_split(df, test_size=0.5, random_state=42)"
   ]
  },
  {
   "cell_type": "code",
   "execution_count": 4,
   "metadata": {},
   "outputs": [],
   "source": [
    "# Converting all review text to string and preprocessing using gensim\n",
    "df_wv_model['review_text'] = df_wv_model['review_text'].values.astype('str')\n",
    "review_text = df_wv_model.review_text.apply(gensim.utils.simple_preprocess)"
   ]
  },
  {
   "cell_type": "code",
   "execution_count": 5,
   "metadata": {},
   "outputs": [],
   "source": [
    "# Building a Word2Vec model using gensim\n",
    "model = gensim.models.Word2Vec(\n",
    "    window = 10,\n",
    "    min_count = 2,\n",
    "    workers = 4\n",
    ")"
   ]
  },
  {
   "cell_type": "code",
   "execution_count": 6,
   "metadata": {},
   "outputs": [],
   "source": [
    "# Building the vocabulary\n",
    "model.build_vocab(review_text)"
   ]
  },
  {
   "cell_type": "code",
   "execution_count": 7,
   "metadata": {},
   "outputs": [
    {
     "data": {
      "text/plain": [
       "(39096015, 52539275)"
      ]
     },
     "execution_count": 7,
     "metadata": {},
     "output_type": "execute_result"
    }
   ],
   "source": [
    "# Training the model\n",
    "model.train(review_text, total_examples = model.corpus_count, epochs = model.epochs)"
   ]
  },
  {
   "cell_type": "code",
   "execution_count": 8,
   "metadata": {},
   "outputs": [],
   "source": [
    "# Tokenizing the data for training and testing on the word2vec custom model\n",
    "max_words = 40000\n",
    "max_sequence_length = 100\n",
    "\n",
    "df['review_text'] = df['review_text'].values.astype('str')\n",
    "review_text = df['review_text']\n",
    "\n",
    "tokenizer = Tokenizer(num_words=max_words)\n",
    "tokenizer.fit_on_texts(review_text)\n",
    "sequences = tokenizer.texts_to_sequences(review_text)\n",
    "review_text_data = pad_sequences(sequences, maxlen=max_sequence_length)"
   ]
  },
  {
   "cell_type": "code",
   "execution_count": 9,
   "metadata": {},
   "outputs": [],
   "source": [
    "# Split into train and test data\n",
    "y = df['review_score'].values.astype('float32')\n",
    "X_train, X_test, y_train, y_test = train_test_split(review_text_data, y, test_size=0.2, random_state=42)"
   ]
  },
  {
   "cell_type": "code",
   "execution_count": 10,
   "metadata": {},
   "outputs": [],
   "source": [
    "# Create an an embedding matrix using custom model for the tokenized text\n",
    "vocab = tokenizer.sequences_to_texts(review_text)\n",
    "\n",
    "vocab_size = len(tokenizer.word_index) + 1\n",
    "\n",
    "embedding_matrix = np.zeros((vocab_size, 100))\n",
    "\n",
    "for word, i in tokenizer.word_index.items() :\n",
    "    try : \n",
    "        embedding_vector = model.wv[word]\n",
    "        if embedding_vector is not None:\n",
    "            embedding_matrix[i] = embedding_vector\n",
    "    except KeyError:\n",
    "        pass\n"
   ]
  },
  {
   "cell_type": "code",
   "execution_count": 23,
   "metadata": {},
   "outputs": [
    {
     "name": "stdout",
     "output_type": "stream",
     "text": [
      "Model: \"model_4\"\n",
      "_________________________________________________________________\n",
      " Layer (type)                Output Shape              Param #   \n",
      "=================================================================\n",
      " review_input (InputLayer)   [(None, 100)]             0         \n",
      "                                                                 \n",
      " embedding_4 (Embedding)     (None, 100, 100)          13133900  \n",
      "                                                                 \n",
      " simple_rnn_4 (SimpleRNN)    (None, 32)                4256      \n",
      "                                                                 \n",
      " flatten (Flatten)           (None, 32)                0         \n",
      "                                                                 \n",
      " dropout_4 (Dropout)         (None, 32)                0         \n",
      "                                                                 \n",
      " dense_12 (Dense)            (None, 100)               3300      \n",
      "                                                                 \n",
      " dense_13 (Dense)            (None, 32)                3232      \n",
      "                                                                 \n",
      " dense_14 (Dense)            (None, 1)                 33        \n",
      "                                                                 \n",
      "=================================================================\n",
      "Total params: 13,144,721\n",
      "Trainable params: 10,821\n",
      "Non-trainable params: 13,133,900\n",
      "_________________________________________________________________\n",
      "None\n"
     ]
    }
   ],
   "source": [
    "# Creating the model\n",
    "sentiment_model = Sequential()\n",
    "Embed_layer = Embedding(vocab_size, 100, weights=[embedding_matrix], input_length=max_sequence_length, trainable=False)\n",
    "\n",
    "review_input = Input(shape=(max_sequence_length,), dtype='int32', name = 'review_input')\n",
    "review_embedding = Embed_layer(review_input)\n",
    "rnn_layer = SimpleRNN(units=32)(review_embedding)\n",
    "flatten_layer = Flatten()(rnn_layer)\n",
    "dropout_layer = Dropout(0.2)(flatten_layer)\n",
    "dense1 = Dense(100, activation='relu')(dropout_layer)\n",
    "dense2 = Dense(32, activation='relu')(dense1)\n",
    "predict = Dense(1, activation = 'sigmoid')(dense2)\n",
    "\n",
    "sentiment_model = Model(inputs = [review_input], outputs = [predict])\n",
    "sentiment_model.compile(loss='binary_crossentropy', optimizer='adam', metrics=['accuracy'])\n",
    "\n",
    "print(sentiment_model.summary())"
   ]
  },
  {
   "cell_type": "code",
   "execution_count": 24,
   "metadata": {},
   "outputs": [
    {
     "name": "stdout",
     "output_type": "stream",
     "text": [
      "Epoch 1/3\n",
      "5000/5000 [==============================] - 70s 13ms/step - loss: -59.1976 - accuracy: 0.7598 - val_loss: -268.8320 - val_accuracy: 0.7932\n",
      "Epoch 2/3\n",
      "5000/5000 [==============================] - 79s 16ms/step - loss: -1342.4957 - accuracy: 0.7705 - val_loss: -4441.3262 - val_accuracy: 0.7804\n",
      "Epoch 3/3\n",
      "5000/5000 [==============================] - 78s 16ms/step - loss: -9199.0186 - accuracy: 0.7667 - val_loss: -18614.2051 - val_accuracy: 0.7736\n"
     ]
    },
    {
     "data": {
      "text/plain": [
       "<keras.callbacks.History at 0x220fa2d4590>"
      ]
     },
     "execution_count": 24,
     "metadata": {},
     "output_type": "execute_result"
    }
   ],
   "source": [
    "# Fitting the model\n",
    "sentiment_model.fit(X_train, y_train, epochs = 3, batch_size = 32, validation_data = (X_test, y_test))"
   ]
  },
  {
   "cell_type": "code",
   "execution_count": 16,
   "metadata": {},
   "outputs": [],
   "source": [
    "# Downloading glove word embeddings\n",
    "import gensim.downloader as api\n",
    "embeddings = api.load(\"glove-wiki-gigaword-100\")"
   ]
  },
  {
   "cell_type": "code",
   "execution_count": 17,
   "metadata": {},
   "outputs": [],
   "source": [
    "# Creating an embedding matrix using the glove model\n",
    "\n",
    "embedding_matrix_glove = np.zeros((vocab_size, 100))\n",
    "\n",
    "for word, i in tokenizer.word_index.items() :\n",
    "    try : \n",
    "        embedding_vector = embeddings[word]\n",
    "        if embedding_vector is not None:\n",
    "            embedding_matrix_glove[i] = embedding_vector\n",
    "    except KeyError:\n",
    "        pass"
   ]
  },
  {
   "cell_type": "code",
   "execution_count": 25,
   "metadata": {},
   "outputs": [
    {
     "name": "stdout",
     "output_type": "stream",
     "text": [
      "Model: \"model_5\"\n",
      "_________________________________________________________________\n",
      " Layer (type)                Output Shape              Param #   \n",
      "=================================================================\n",
      " review_input (InputLayer)   [(None, 100)]             0         \n",
      "                                                                 \n",
      " embedding_5 (Embedding)     (None, 100, 100)          13133900  \n",
      "                                                                 \n",
      " simple_rnn_5 (SimpleRNN)    (None, 32)                4256      \n",
      "                                                                 \n",
      " flatten_1 (Flatten)         (None, 32)                0         \n",
      "                                                                 \n",
      " dropout_5 (Dropout)         (None, 32)                0         \n",
      "                                                                 \n",
      " dense_15 (Dense)            (None, 100)               3300      \n",
      "                                                                 \n",
      " dense_16 (Dense)            (None, 32)                3232      \n",
      "                                                                 \n",
      " dense_17 (Dense)            (None, 1)                 33        \n",
      "                                                                 \n",
      "=================================================================\n",
      "Total params: 13,144,721\n",
      "Trainable params: 10,821\n",
      "Non-trainable params: 13,133,900\n",
      "_________________________________________________________________\n",
      "None\n"
     ]
    }
   ],
   "source": [
    "# Creating the model for glove embedding matrix\n",
    "sentiment_model_glove = Sequential()\n",
    "Embed_layer = Embedding(vocab_size, 100, weights=[embedding_matrix_glove], input_length=max_sequence_length, trainable=False)\n",
    "\n",
    "review_input = Input(shape=(max_sequence_length,), dtype='int32', name = 'review_input')\n",
    "review_embedding = Embed_layer(review_input)\n",
    "rnn_layer = SimpleRNN(units=32)(review_embedding)\n",
    "flatten_layer = Flatten()(rnn_layer)\n",
    "dropout_layer = Dropout(0.2)(flatten_layer)\n",
    "dense1 = Dense(100, activation='relu')(dropout_layer)\n",
    "dense2 = Dense(32, activation='relu')(dense1)\n",
    "predict = Dense(1, activation = 'sigmoid')(dense2)\n",
    "\n",
    "sentiment_model_glove = Model(inputs = [review_input], outputs = [predict])\n",
    "sentiment_model_glove.compile(loss='binary_crossentropy', optimizer='adam', metrics=['accuracy'])\n",
    "\n",
    "print(sentiment_model_glove.summary())"
   ]
  },
  {
   "cell_type": "code",
   "execution_count": 26,
   "metadata": {},
   "outputs": [
    {
     "name": "stdout",
     "output_type": "stream",
     "text": [
      "Epoch 1/3\n",
      "5000/5000 [==============================] - 49s 10ms/step - loss: 0.5113 - accuracy: 0.7158 - val_loss: 0.1150 - val_accuracy: 0.8120\n",
      "Epoch 2/3\n",
      "5000/5000 [==============================] - 50s 10ms/step - loss: 3.8778 - accuracy: 0.7849 - val_loss: 0.6514 - val_accuracy: 0.8205\n",
      "Epoch 3/3\n",
      "5000/5000 [==============================] - 55s 11ms/step - loss: 0.6422 - accuracy: 0.8193 - val_loss: 0.6260 - val_accuracy: 0.8208\n"
     ]
    },
    {
     "data": {
      "text/plain": [
       "<keras.callbacks.History at 0x220fa31f910>"
      ]
     },
     "execution_count": 26,
     "metadata": {},
     "output_type": "execute_result"
    }
   ],
   "source": [
    "# Fitting the glove model\n",
    "sentiment_model_glove.fit(X_train, y_train, epochs = 3, batch_size = 32, validation_data = (X_test, y_test))"
   ]
  }
 ],
 "metadata": {
  "kernelspec": {
   "display_name": "Python 3",
   "language": "python",
   "name": "python3"
  },
  "language_info": {
   "codemirror_mode": {
    "name": "ipython",
    "version": 3
   },
   "file_extension": ".py",
   "mimetype": "text/x-python",
   "name": "python",
   "nbconvert_exporter": "python",
   "pygments_lexer": "ipython3",
   "version": "3.11.3"
  },
  "orig_nbformat": 4
 },
 "nbformat": 4,
 "nbformat_minor": 2
}
